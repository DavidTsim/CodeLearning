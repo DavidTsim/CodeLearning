{
 "cells": [
  {
   "cell_type": "code",
   "execution_count": 1,
   "id": "c53ca369",
   "metadata": {},
   "outputs": [
    {
     "name": "stdout",
     "output_type": "stream",
     "text": [
      "Requirement already satisfied: selenium in e:\\ffoutput\\anaconda\\lib\\site-packages (4.2.0)\n",
      "Requirement already satisfied: urllib3[secure,socks]~=1.26 in e:\\ffoutput\\anaconda\\lib\\site-packages (from selenium) (1.26.9)\n",
      "Requirement already satisfied: trio-websocket~=0.9 in e:\\ffoutput\\anaconda\\lib\\site-packages (from selenium) (0.9.2)\n",
      "Requirement already satisfied: trio~=0.17 in e:\\ffoutput\\anaconda\\lib\\site-packages (from selenium) (0.21.0)\n",
      "Requirement already satisfied: outcome in e:\\ffoutput\\anaconda\\lib\\site-packages (from trio~=0.17->selenium) (1.1.0)\n",
      "Requirement already satisfied: async-generator>=1.9 in e:\\ffoutput\\anaconda\\lib\\site-packages (from trio~=0.17->selenium) (1.10)\n",
      "Requirement already satisfied: sortedcontainers in e:\\ffoutput\\anaconda\\lib\\site-packages (from trio~=0.17->selenium) (2.4.0)\n",
      "Requirement already satisfied: sniffio in e:\\ffoutput\\anaconda\\lib\\site-packages (from trio~=0.17->selenium) (1.2.0)\n",
      "Requirement already satisfied: attrs>=19.2.0 in e:\\ffoutput\\anaconda\\lib\\site-packages (from trio~=0.17->selenium) (21.4.0)\n",
      "Requirement already satisfied: cffi>=1.14 in e:\\ffoutput\\anaconda\\lib\\site-packages (from trio~=0.17->selenium) (1.15.0)\n",
      "Requirement already satisfied: idna in e:\\ffoutput\\anaconda\\lib\\site-packages (from trio~=0.17->selenium) (3.3)\n",
      "Requirement already satisfied: pycparser in e:\\ffoutput\\anaconda\\lib\\site-packages (from cffi>=1.14->trio~=0.17->selenium) (2.21)\n",
      "Requirement already satisfied: wsproto>=0.14 in e:\\ffoutput\\anaconda\\lib\\site-packages (from trio-websocket~=0.9->selenium) (1.1.0)\n",
      "Requirement already satisfied: pyOpenSSL>=0.14 in e:\\ffoutput\\anaconda\\lib\\site-packages (from urllib3[secure,socks]~=1.26->selenium) (21.0.0)\n",
      "Requirement already satisfied: cryptography>=1.3.4 in e:\\ffoutput\\anaconda\\lib\\site-packages (from urllib3[secure,socks]~=1.26->selenium) (3.4.8)\n",
      "Requirement already satisfied: certifi in e:\\ffoutput\\anaconda\\lib\\site-packages (from urllib3[secure,socks]~=1.26->selenium) (2021.10.8)\n",
      "Requirement already satisfied: PySocks!=1.5.7,<2.0,>=1.5.6 in e:\\ffoutput\\anaconda\\lib\\site-packages (from urllib3[secure,socks]~=1.26->selenium) (1.7.1)\n",
      "Requirement already satisfied: six>=1.5.2 in e:\\ffoutput\\anaconda\\lib\\site-packages (from pyOpenSSL>=0.14->urllib3[secure,socks]~=1.26->selenium) (1.16.0)\n",
      "Requirement already satisfied: h11<1,>=0.9.0 in e:\\ffoutput\\anaconda\\lib\\site-packages (from wsproto>=0.14->trio-websocket~=0.9->selenium) (0.13.0)\n"
     ]
    }
   ],
   "source": [
    "!pip install selenium"
   ]
  },
  {
   "cell_type": "code",
   "execution_count": 7,
   "id": "7a09a94c",
   "metadata": {},
   "outputs": [
    {
     "name": "stderr",
     "output_type": "stream",
     "text": [
      "C:\\Users\\Tsim\\AppData\\Local\\Temp\\ipykernel_15796\\2526717677.py:9: DeprecationWarning: executable_path has been deprecated, please pass in a Service object\n",
      "  driver = webdriver.Chrome('C:/Users/Tsim/Downloads/chromedriver_win32/chromedriver.exe')\n"
     ]
    },
    {
     "name": "stdout",
     "output_type": "stream",
     "text": [
      "王者 - Google 搜尋\n"
     ]
    }
   ],
   "source": [
    "from selenium import webdriver\n",
    "from selenium.webdriver.common.keys import Keys\n",
    "import requests\n",
    "from bs4 import BeautifulSoup\n",
    "import re\n",
    "import os\n",
    "\n",
    "#path需要改成你的Chrome.exe位置\n",
    "driver = webdriver.Chrome('C:/Users/Tsim/Downloads/chromedriver_win32/chromedriver.exe')\n",
    "driver.get(\"https://www.google.com/search?q=%E7%8E%8B%E8%80%85&hl=zh-TW&source=lnms&tbm=isch&sa=X&ved=2ahUKEwiFiK6Ktdz4AhU9S2wGHT0kDGgQ_AUoAXoECAIQAw&biw=929&bih=888&dpr=1\")\n",
    "print(driver.title)\n"
   ]
  },
  {
   "cell_type": "code",
   "execution_count": 10,
   "id": "126f9dfc",
   "metadata": {},
   "outputs": [
    {
     "name": "stderr",
     "output_type": "stream",
     "text": [
      "C:\\Users\\Tsim\\AppData\\Local\\Temp\\ipykernel_15796\\2780559195.py:1: DeprecationWarning: find_element_by_* commands are deprecated. Please use find_element() instead\n",
      "  writesearch_bar = driver.find_element_by_id(\"REsRA\")\n",
      "C:\\Users\\Tsim\\AppData\\Local\\Temp\\ipykernel_15796\\2780559195.py:2: DeprecationWarning: find_element_by_* commands are deprecated. Please use find_element() instead\n",
      "  search_bar = driver.find_element_by_id(\"BIqFsb\")\n"
     ]
    },
    {
     "name": "stdout",
     "output_type": "stream",
     "text": [
      "請輸入你想找的東西:Story Book\n",
      "Have images 21 pages\n",
      "20\n",
      "Story Book1 Download completed\n",
      "Story Book2 Download completed\n",
      "Story Book3 Download completed\n",
      "Story Book4 Download completed\n",
      "Story Book5 Download completed\n",
      "Story Book6 Download completed\n",
      "Story Book7 Download completed\n",
      "Story Book8 Download completed\n",
      "Story Book9 Download completed\n",
      "Story Book10 Download completed\n",
      "Story Book11 Download completed\n",
      "Story Book12 Download completed\n",
      "Story Book13 Download completed\n",
      "Story Book14 Download completed\n",
      "Story Book15 Download completed\n",
      "Story Book16 Download completed\n",
      "Story Book17 Download completed\n",
      "Story Book18 Download completed\n",
      "Story Book19 Download completed\n",
      "Story Book20 Download completed\n"
     ]
    }
   ],
   "source": [
    "writesearch_bar = driver.find_element_by_id(\"REsRA\")\n",
    "search_bar = driver.find_element_by_id(\"BIqFsb\")\n",
    "insearch = input(\"請輸入你想找的東西:\")\n",
    "writesearch_bar.clear()\n",
    "writesearch_bar.send_keys(insearch)\n",
    "search_bar.send_keys(Keys.RETURN)\n",
    "\n",
    "autoUrl = driver.current_url\n",
    "\n",
    "web_url = autoUrl\n",
    "target = requests.get(web_url)\n",
    "\n",
    "soup = BeautifulSoup(target.text, \"html.parser\")\n",
    "#print(soup.prettify())\n",
    "\n",
    "\n",
    "imgurl = []\n",
    "imgurl.append([x.get(\"src\") for x in soup.findAll(\"img\")])\n",
    "print(\"Have images\", len(imgurl[0]), \"pages\")\n",
    "imgurl[0]\n",
    "newlist = []\n",
    "for iurl in imgurl[0]:\n",
    "    if \"https\" in str(iurl):\n",
    "        newlist.append(iurl)\n",
    "print(len(newlist))\n",
    "\n",
    "\n",
    "if not os.path.exists(str(insearch)):\n",
    "    os.mkdir(str(insearch))\n",
    "\n",
    "\n",
    "\n",
    "###結果將保存在與本ipynb文件的同一個文件夾中\n",
    "for i in range(len(newlist)):\n",
    "    with open(str(insearch)+'//' + str(insearch)+str(i+1)+'.jpg', 'wb') as f:\n",
    "        f.write(requests.get(newlist[i]).content)\n",
    "\n",
    "    print(str(insearch)+str(i+1)+' Download completed') "
   ]
  },
  {
   "cell_type": "code",
   "execution_count": 11,
   "id": "1ed68b5b",
   "metadata": {},
   "outputs": [],
   "source": [
    "driver.close()"
   ]
  }
 ],
 "metadata": {
  "kernelspec": {
   "display_name": "Python 3 (ipykernel)",
   "language": "python",
   "name": "python3"
  },
  "language_info": {
   "codemirror_mode": {
    "name": "ipython",
    "version": 3 
   },
   "file_extension": ".py",
   "mimetype": "text/x-python",
   "name": "python",
   "nbconvert_exporter": "python",
   "pygments_lexer": "ipython3",
   "version": "3.9.12"
  }
 },
 "nbformat": 4,
 "nbformat_minor": 5
}

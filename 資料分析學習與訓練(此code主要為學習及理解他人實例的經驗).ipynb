{
 "cells": [
  {
   "cell_type": "code",
   "execution_count": null,
   "id": "ee30d67e",
   "metadata": {},
   "outputs": [],
   "source": [
    "###學習實例來源為CSDN###"
   ]
  },
  {
   "cell_type": "code",
   "execution_count": 135,
   "id": "a7a71c0f",
   "metadata": {},
   "outputs": [
    {
     "data": {
      "text/html": [
       "<div>\n",
       "<style scoped>\n",
       "    .dataframe tbody tr th:only-of-type {\n",
       "        vertical-align: middle;\n",
       "    }\n",
       "\n",
       "    .dataframe tbody tr th {\n",
       "        vertical-align: top;\n",
       "    }\n",
       "\n",
       "    .dataframe thead th {\n",
       "        text-align: right;\n",
       "    }\n",
       "</style>\n",
       "<table border=\"1\" class=\"dataframe\">\n",
       "  <thead>\n",
       "    <tr style=\"text-align: right;\">\n",
       "      <th></th>\n",
       "      <th>購藥時間</th>\n",
       "      <th>社保卡號</th>\n",
       "      <th>商品编碼</th>\n",
       "      <th>商品名稱</th>\n",
       "      <th>銷售數量</th>\n",
       "      <th>應收金額</th>\n",
       "      <th>實收金額</th>\n",
       "    </tr>\n",
       "  </thead>\n",
       "  <tbody>\n",
       "    <tr>\n",
       "      <th>0</th>\n",
       "      <td>2018-01-01 星期五</td>\n",
       "      <td>001616528</td>\n",
       "      <td>236701</td>\n",
       "      <td>强力VC银翘片</td>\n",
       "      <td>6</td>\n",
       "      <td>82.8</td>\n",
       "      <td>69</td>\n",
       "    </tr>\n",
       "    <tr>\n",
       "      <th>1</th>\n",
       "      <td>2018-01-02 星期六</td>\n",
       "      <td>001616528</td>\n",
       "      <td>236701</td>\n",
       "      <td>清热解毒口服液</td>\n",
       "      <td>1</td>\n",
       "      <td>28</td>\n",
       "      <td>24.64</td>\n",
       "    </tr>\n",
       "    <tr>\n",
       "      <th>2</th>\n",
       "      <td>2018-01-06 星期三</td>\n",
       "      <td>0012602828</td>\n",
       "      <td>236701</td>\n",
       "      <td>感康</td>\n",
       "      <td>2</td>\n",
       "      <td>16.8</td>\n",
       "      <td>15</td>\n",
       "    </tr>\n",
       "    <tr>\n",
       "      <th>3</th>\n",
       "      <td>2018-01-11 星期一</td>\n",
       "      <td>0010070343428</td>\n",
       "      <td>236701</td>\n",
       "      <td>三九感冒灵</td>\n",
       "      <td>1</td>\n",
       "      <td>28</td>\n",
       "      <td>28</td>\n",
       "    </tr>\n",
       "    <tr>\n",
       "      <th>4</th>\n",
       "      <td>2018-01-15 星期五</td>\n",
       "      <td>00101554328</td>\n",
       "      <td>236701</td>\n",
       "      <td>三九感冒灵</td>\n",
       "      <td>8</td>\n",
       "      <td>224</td>\n",
       "      <td>208</td>\n",
       "    </tr>\n",
       "  </tbody>\n",
       "</table>\n",
       "</div>"
      ],
      "text/plain": [
       "             購藥時間           社保卡號    商品编碼     商品名稱 銷售數量  應收金額   實收金額\n",
       "0  2018-01-01 星期五      001616528  236701  强力VC银翘片    6  82.8     69\n",
       "1  2018-01-02 星期六      001616528  236701  清热解毒口服液    1    28  24.64\n",
       "2  2018-01-06 星期三     0012602828  236701       感康    2  16.8     15\n",
       "3  2018-01-11 星期一  0010070343428  236701    三九感冒灵    1    28     28\n",
       "4  2018-01-15 星期五    00101554328  236701    三九感冒灵    8   224    208"
      ]
     },
     "execution_count": 135,
     "metadata": {},
     "output_type": "execute_result"
    }
   ],
   "source": [
    "import numpy as np\n",
    "from pandas import Series,DataFrame\n",
    "import pandas as pd\n",
    "\n",
    "xls = pd.ExcelFile('XXXHospital sales data3 in 2018.xlsx')\n",
    "\n",
    "dataDF = xls.parse('Sheet1',dtype='object')\n",
    "\n",
    "dataDF[:5]"
   ]
  },
  {
   "cell_type": "code",
   "execution_count": 136,
   "id": "434890e9",
   "metadata": {},
   "outputs": [
    {
     "name": "stdout",
     "output_type": "stream",
     "text": [
      "Sheet1\n"
     ]
    }
   ],
   "source": [
    "print(xls.sheet_names[0])"
   ]
  },
  {
   "cell_type": "code",
   "execution_count": 137,
   "id": "e720496a",
   "metadata": {},
   "outputs": [
    {
     "name": "stdout",
     "output_type": "stream",
     "text": [
      "(6578, 7)\n",
      "RangeIndex(start=0, stop=6578, step=1)\n",
      "Index(['購藥時間', '社保卡號', '商品编碼', '商品名稱', '銷售數量', '應收金額', '實收金額'], dtype='object')\n",
      "購藥時間    6576\n",
      "社保卡號    6576\n",
      "商品编碼    6577\n",
      "商品名稱    6577\n",
      "銷售數量    6577\n",
      "應收金額    6577\n",
      "實收金額    6577\n",
      "dtype: int64\n"
     ]
    }
   ],
   "source": [
    "\n",
    "print(dataDF.shape)\n",
    "\n",
    "print(dataDF.index)\n",
    "\n",
    "print(dataDF.columns)\n",
    "\n",
    "print(dataDF.count())"
   ]
  },
  {
   "cell_type": "code",
   "execution_count": 138,
   "id": "cbd380fa",
   "metadata": {},
   "outputs": [
    {
     "data": {
      "text/html": [
       "<div>\n",
       "<style scoped>\n",
       "    .dataframe tbody tr th:only-of-type {\n",
       "        vertical-align: middle;\n",
       "    }\n",
       "\n",
       "    .dataframe tbody tr th {\n",
       "        vertical-align: top;\n",
       "    }\n",
       "\n",
       "    .dataframe thead th {\n",
       "        text-align: right;\n",
       "    }\n",
       "</style>\n",
       "<table border=\"1\" class=\"dataframe\">\n",
       "  <thead>\n",
       "    <tr style=\"text-align: right;\">\n",
       "      <th></th>\n",
       "      <th>銷售時間</th>\n",
       "      <th>社保卡號</th>\n",
       "      <th>商品编碼</th>\n",
       "      <th>商品名稱</th>\n",
       "      <th>銷售數量</th>\n",
       "      <th>應收金額</th>\n",
       "      <th>實收金額</th>\n",
       "    </tr>\n",
       "  </thead>\n",
       "  <tbody>\n",
       "    <tr>\n",
       "      <th>0</th>\n",
       "      <td>2018-01-01 星期五</td>\n",
       "      <td>001616528</td>\n",
       "      <td>236701</td>\n",
       "      <td>强力VC银翘片</td>\n",
       "      <td>6</td>\n",
       "      <td>82.8</td>\n",
       "      <td>69</td>\n",
       "    </tr>\n",
       "    <tr>\n",
       "      <th>1</th>\n",
       "      <td>2018-01-02 星期六</td>\n",
       "      <td>001616528</td>\n",
       "      <td>236701</td>\n",
       "      <td>清热解毒口服液</td>\n",
       "      <td>1</td>\n",
       "      <td>28</td>\n",
       "      <td>24.64</td>\n",
       "    </tr>\n",
       "    <tr>\n",
       "      <th>2</th>\n",
       "      <td>2018-01-06 星期三</td>\n",
       "      <td>0012602828</td>\n",
       "      <td>236701</td>\n",
       "      <td>感康</td>\n",
       "      <td>2</td>\n",
       "      <td>16.8</td>\n",
       "      <td>15</td>\n",
       "    </tr>\n",
       "    <tr>\n",
       "      <th>3</th>\n",
       "      <td>2018-01-11 星期一</td>\n",
       "      <td>0010070343428</td>\n",
       "      <td>236701</td>\n",
       "      <td>三九感冒灵</td>\n",
       "      <td>1</td>\n",
       "      <td>28</td>\n",
       "      <td>28</td>\n",
       "    </tr>\n",
       "    <tr>\n",
       "      <th>4</th>\n",
       "      <td>2018-01-15 星期五</td>\n",
       "      <td>00101554328</td>\n",
       "      <td>236701</td>\n",
       "      <td>三九感冒灵</td>\n",
       "      <td>8</td>\n",
       "      <td>224</td>\n",
       "      <td>208</td>\n",
       "    </tr>\n",
       "    <tr>\n",
       "      <th>...</th>\n",
       "      <td>...</td>\n",
       "      <td>...</td>\n",
       "      <td>...</td>\n",
       "      <td>...</td>\n",
       "      <td>...</td>\n",
       "      <td>...</td>\n",
       "      <td>...</td>\n",
       "    </tr>\n",
       "    <tr>\n",
       "      <th>6573</th>\n",
       "      <td>2018-04-27 星期三</td>\n",
       "      <td>00107886128</td>\n",
       "      <td>2367011</td>\n",
       "      <td>高特灵</td>\n",
       "      <td>10</td>\n",
       "      <td>56</td>\n",
       "      <td>54.8</td>\n",
       "    </tr>\n",
       "    <tr>\n",
       "      <th>6574</th>\n",
       "      <td>NaN</td>\n",
       "      <td>NaN</td>\n",
       "      <td>NaN</td>\n",
       "      <td>NaN</td>\n",
       "      <td>NaN</td>\n",
       "      <td>NaN</td>\n",
       "      <td>NaN</td>\n",
       "    </tr>\n",
       "    <tr>\n",
       "      <th>6575</th>\n",
       "      <td>2018-04-27 星期三</td>\n",
       "      <td>0010087865628</td>\n",
       "      <td>2367011</td>\n",
       "      <td>高特灵</td>\n",
       "      <td>2</td>\n",
       "      <td>11.2</td>\n",
       "      <td>9.86</td>\n",
       "    </tr>\n",
       "    <tr>\n",
       "      <th>6576</th>\n",
       "      <td>2018-04-27 星期三</td>\n",
       "      <td>0013406628</td>\n",
       "      <td>2367011</td>\n",
       "      <td>高特灵</td>\n",
       "      <td>1</td>\n",
       "      <td>5.6</td>\n",
       "      <td>5</td>\n",
       "    </tr>\n",
       "    <tr>\n",
       "      <th>6577</th>\n",
       "      <td>2018-04-28 星期四</td>\n",
       "      <td>0011926928</td>\n",
       "      <td>2367011</td>\n",
       "      <td>高特灵</td>\n",
       "      <td>2</td>\n",
       "      <td>11.2</td>\n",
       "      <td>10</td>\n",
       "    </tr>\n",
       "  </tbody>\n",
       "</table>\n",
       "<p>6578 rows × 7 columns</p>\n",
       "</div>"
      ],
      "text/plain": [
       "                銷售時間           社保卡號     商品编碼     商品名稱 銷售數量  應收金額   實收金額\n",
       "0     2018-01-01 星期五      001616528   236701  强力VC银翘片    6  82.8     69\n",
       "1     2018-01-02 星期六      001616528   236701  清热解毒口服液    1    28  24.64\n",
       "2     2018-01-06 星期三     0012602828   236701       感康    2  16.8     15\n",
       "3     2018-01-11 星期一  0010070343428   236701    三九感冒灵    1    28     28\n",
       "4     2018-01-15 星期五    00101554328   236701    三九感冒灵    8   224    208\n",
       "...              ...            ...      ...      ...  ...   ...    ...\n",
       "6573  2018-04-27 星期三    00107886128  2367011      高特灵   10    56   54.8\n",
       "6574             NaN            NaN      NaN      NaN  NaN   NaN    NaN\n",
       "6575  2018-04-27 星期三  0010087865628  2367011      高特灵    2  11.2   9.86\n",
       "6576  2018-04-27 星期三     0013406628  2367011      高特灵    1   5.6      5\n",
       "6577  2018-04-28 星期四     0011926928  2367011      高特灵    2  11.2     10\n",
       "\n",
       "[6578 rows x 7 columns]"
      ]
     },
     "execution_count": 138,
     "metadata": {},
     "output_type": "execute_result"
    }
   ],
   "source": [
    "dataDF.rename(columns={'購藥時間':'銷售時間'},inplace=True)\n",
    "dataDF"
   ]
  },
  {
   "cell_type": "code",
   "execution_count": 139,
   "id": "21df765c",
   "metadata": {},
   "outputs": [
    {
     "name": "stdout",
     "output_type": "stream",
     "text": [
      "删除缺失值前: (6578, 7)\n",
      "<class 'pandas.core.frame.DataFrame'>\n",
      "RangeIndex: 6578 entries, 0 to 6577\n",
      "Data columns (total 7 columns):\n",
      " #   Column  Non-Null Count  Dtype \n",
      "---  ------  --------------  ----- \n",
      " 0   銷售時間    6576 non-null   object\n",
      " 1   社保卡號    6576 non-null   object\n",
      " 2   商品编碼    6577 non-null   object\n",
      " 3   商品名稱    6577 non-null   object\n",
      " 4   銷售數量    6577 non-null   object\n",
      " 5   應收金額    6577 non-null   object\n",
      " 6   實收金額    6577 non-null   object\n",
      "dtypes: object(7)\n",
      "memory usage: 359.9+ KB\n",
      "None\n",
      "\n",
      "删除缺失值後 (6575, 7)\n",
      "<class 'pandas.core.frame.DataFrame'>\n",
      "Int64Index: 6575 entries, 0 to 6577\n",
      "Data columns (total 7 columns):\n",
      " #   Column  Non-Null Count  Dtype \n",
      "---  ------  --------------  ----- \n",
      " 0   銷售時間    6575 non-null   object\n",
      " 1   社保卡號    6575 non-null   object\n",
      " 2   商品编碼    6575 non-null   object\n",
      " 3   商品名稱    6575 non-null   object\n",
      " 4   銷售數量    6575 non-null   object\n",
      " 5   應收金額    6575 non-null   object\n",
      " 6   實收金額    6575 non-null   object\n",
      "dtypes: object(7)\n",
      "memory usage: 410.9+ KB\n",
      "None\n"
     ]
    }
   ],
   "source": [
    "print('删除缺失值前:', dataDF.shape)\n",
    "\n",
    "# 使用info查看数据信息,\n",
    "print(dataDF.info())\n",
    "#删除缺失值\n",
    "dataDF = dataDF.dropna(subset=['銷售時間','社保卡號'], how='any')\n",
    "print('\\n删除缺失值後',dataDF.shape)\n",
    "print(dataDF.info())"
   ]
  },
  {
   "cell_type": "code",
   "execution_count": 140,
   "id": "9e59eee0",
   "metadata": {},
   "outputs": [
    {
     "name": "stdout",
     "output_type": "stream",
     "text": [
      "銷售時間    object\n",
      "社保卡號    object\n",
      "商品编碼    object\n",
      "商品名稱    object\n",
      "銷售數量    object\n",
      "應收金額    object\n",
      "實收金額    object\n",
      "dtype: object\n",
      "銷售時間     object\n",
      "社保卡號     object\n",
      "商品编碼     object\n",
      "商品名稱     object\n",
      "銷售數量    float64\n",
      "應收金額    float64\n",
      "實收金額    float64\n",
      "dtype: object\n"
     ]
    },
    {
     "name": "stderr",
     "output_type": "stream",
     "text": [
      "C:\\Users\\Tsim\\AppData\\Local\\Temp\\ipykernel_18864\\3883553460.py:2: SettingWithCopyWarning: \n",
      "A value is trying to be set on a copy of a slice from a DataFrame.\n",
      "Try using .loc[row_indexer,col_indexer] = value instead\n",
      "\n",
      "See the caveats in the documentation: https://pandas.pydata.org/pandas-docs/stable/user_guide/indexing.html#returning-a-view-versus-a-copy\n",
      "  dataDF['銷售數量'] = dataDF['銷售數量'].astype('float')\n",
      "C:\\Users\\Tsim\\AppData\\Local\\Temp\\ipykernel_18864\\3883553460.py:3: SettingWithCopyWarning: \n",
      "A value is trying to be set on a copy of a slice from a DataFrame.\n",
      "Try using .loc[row_indexer,col_indexer] = value instead\n",
      "\n",
      "See the caveats in the documentation: https://pandas.pydata.org/pandas-docs/stable/user_guide/indexing.html#returning-a-view-versus-a-copy\n",
      "  dataDF['應收金額'] = dataDF['應收金額'].astype('float')\n",
      "C:\\Users\\Tsim\\AppData\\Local\\Temp\\ipykernel_18864\\3883553460.py:4: SettingWithCopyWarning: \n",
      "A value is trying to be set on a copy of a slice from a DataFrame.\n",
      "Try using .loc[row_indexer,col_indexer] = value instead\n",
      "\n",
      "See the caveats in the documentation: https://pandas.pydata.org/pandas-docs/stable/user_guide/indexing.html#returning-a-view-versus-a-copy\n",
      "  dataDF['實收金額'] = dataDF['實收金額'].astype('float')\n"
     ]
    }
   ],
   "source": [
    "print(dataDF.dtypes)\n",
    "dataDF['銷售數量'] = dataDF['銷售數量'].astype('float')\n",
    "dataDF['應收金額'] = dataDF['應收金額'].astype('float')\n",
    "dataDF['實收金額'] = dataDF['實收金額'].astype('float')\n",
    "print(dataDF.dtypes)"
   ]
  },
  {
   "cell_type": "code",
   "execution_count": 141,
   "id": "e8144f57",
   "metadata": {},
   "outputs": [],
   "source": [
    "def splitSaletime(timeColSer):\n",
    "    timeList=[]\n",
    "    \n",
    "    for value in timeColSer:\n",
    "        dateStr=value.split(' ')[0]\n",
    "        timeList.append(dateStr)\n",
    "\n",
    "    timeSer=pd.Series(timeList)\n",
    "    return timeSer"
   ]
  },
  {
   "cell_type": "code",
   "execution_count": 142,
   "id": "5f8c0de5",
   "metadata": {},
   "outputs": [
    {
     "name": "stderr",
     "output_type": "stream",
     "text": [
      "C:\\Users\\Tsim\\AppData\\Local\\Temp\\ipykernel_18864\\2040313254.py:7: SettingWithCopyWarning: \n",
      "A value is trying to be set on a copy of a slice from a DataFrame.\n",
      "Try using .loc[row_indexer,col_indexer] = value instead\n",
      "\n",
      "See the caveats in the documentation: https://pandas.pydata.org/pandas-docs/stable/user_guide/indexing.html#returning-a-view-versus-a-copy\n",
      "  dataDF.loc[:,'銷售時間'] = dateSer\n"
     ]
    },
    {
     "data": {
      "text/html": [
       "<div>\n",
       "<style scoped>\n",
       "    .dataframe tbody tr th:only-of-type {\n",
       "        vertical-align: middle;\n",
       "    }\n",
       "\n",
       "    .dataframe tbody tr th {\n",
       "        vertical-align: top;\n",
       "    }\n",
       "\n",
       "    .dataframe thead th {\n",
       "        text-align: right;\n",
       "    }\n",
       "</style>\n",
       "<table border=\"1\" class=\"dataframe\">\n",
       "  <thead>\n",
       "    <tr style=\"text-align: right;\">\n",
       "      <th></th>\n",
       "      <th>銷售時間</th>\n",
       "      <th>社保卡號</th>\n",
       "      <th>商品编碼</th>\n",
       "      <th>商品名稱</th>\n",
       "      <th>銷售數量</th>\n",
       "      <th>應收金額</th>\n",
       "      <th>實收金額</th>\n",
       "    </tr>\n",
       "  </thead>\n",
       "  <tbody>\n",
       "    <tr>\n",
       "      <th>0</th>\n",
       "      <td>2018-01-01</td>\n",
       "      <td>001616528</td>\n",
       "      <td>236701</td>\n",
       "      <td>强力VC银翘片</td>\n",
       "      <td>6.0</td>\n",
       "      <td>82.8</td>\n",
       "      <td>69.00</td>\n",
       "    </tr>\n",
       "    <tr>\n",
       "      <th>1</th>\n",
       "      <td>2018-01-02</td>\n",
       "      <td>001616528</td>\n",
       "      <td>236701</td>\n",
       "      <td>清热解毒口服液</td>\n",
       "      <td>1.0</td>\n",
       "      <td>28.0</td>\n",
       "      <td>24.64</td>\n",
       "    </tr>\n",
       "    <tr>\n",
       "      <th>2</th>\n",
       "      <td>2018-01-06</td>\n",
       "      <td>0012602828</td>\n",
       "      <td>236701</td>\n",
       "      <td>感康</td>\n",
       "      <td>2.0</td>\n",
       "      <td>16.8</td>\n",
       "      <td>15.00</td>\n",
       "    </tr>\n",
       "    <tr>\n",
       "      <th>3</th>\n",
       "      <td>2018-01-11</td>\n",
       "      <td>0010070343428</td>\n",
       "      <td>236701</td>\n",
       "      <td>三九感冒灵</td>\n",
       "      <td>1.0</td>\n",
       "      <td>28.0</td>\n",
       "      <td>28.00</td>\n",
       "    </tr>\n",
       "    <tr>\n",
       "      <th>4</th>\n",
       "      <td>2018-01-15</td>\n",
       "      <td>00101554328</td>\n",
       "      <td>236701</td>\n",
       "      <td>三九感冒灵</td>\n",
       "      <td>8.0</td>\n",
       "      <td>224.0</td>\n",
       "      <td>208.00</td>\n",
       "    </tr>\n",
       "    <tr>\n",
       "      <th>5</th>\n",
       "      <td>2018-01-20</td>\n",
       "      <td>0013389528</td>\n",
       "      <td>236701</td>\n",
       "      <td>三九感冒灵</td>\n",
       "      <td>1.0</td>\n",
       "      <td>28.0</td>\n",
       "      <td>28.00</td>\n",
       "    </tr>\n",
       "  </tbody>\n",
       "</table>\n",
       "</div>"
      ],
      "text/plain": [
       "         銷售時間           社保卡號    商品编碼     商品名稱  銷售數量   應收金額    實收金額\n",
       "0  2018-01-01      001616528  236701  强力VC银翘片   6.0   82.8   69.00\n",
       "1  2018-01-02      001616528  236701  清热解毒口服液   1.0   28.0   24.64\n",
       "2  2018-01-06     0012602828  236701       感康   2.0   16.8   15.00\n",
       "3  2018-01-11  0010070343428  236701    三九感冒灵   1.0   28.0   28.00\n",
       "4  2018-01-15    00101554328  236701    三九感冒灵   8.0  224.0  208.00\n",
       "5  2018-01-20     0013389528  236701    三九感冒灵   1.0   28.0   28.00"
      ]
     },
     "execution_count": 142,
     "metadata": {},
     "output_type": "execute_result"
    }
   ],
   "source": [
    "timeSer = dataDF.loc[:,'銷售時間']\n",
    "\n",
    "\n",
    "dateSer = splitSaletime(timeSer)\n",
    "\n",
    "\n",
    "dataDF.loc[:,'銷售時間'] = dateSer\n",
    "dataDF[:6]"
   ]
  },
  {
   "cell_type": "code",
   "execution_count": 143,
   "id": "a039fb82",
   "metadata": {},
   "outputs": [
    {
     "name": "stdout",
     "output_type": "stream",
     "text": [
      "銷售時間    datetime64[ns]\n",
      "社保卡號            object\n",
      "商品编碼            object\n",
      "商品名稱            object\n",
      "銷售數量           float64\n",
      "應收金額           float64\n",
      "實收金額           float64\n",
      "dtype: object\n"
     ]
    },
    {
     "name": "stderr",
     "output_type": "stream",
     "text": [
      "C:\\Users\\Tsim\\AppData\\Local\\Temp\\ipykernel_18864\\2879129449.py:1: SettingWithCopyWarning: \n",
      "A value is trying to be set on a copy of a slice from a DataFrame.\n",
      "Try using .loc[row_indexer,col_indexer] = value instead\n",
      "\n",
      "See the caveats in the documentation: https://pandas.pydata.org/pandas-docs/stable/user_guide/indexing.html#returning-a-view-versus-a-copy\n",
      "  dataDF.loc[:,'銷售時間']=pd.to_datetime(dataDF.loc[:,'銷售時間'],format='%Y-%m-%d', errors='coerce')\n"
     ]
    }
   ],
   "source": [
    "dataDF.loc[:,'銷售時間']=pd.to_datetime(dataDF.loc[:,'銷售時間'],format='%Y-%m-%d', errors='coerce')\n",
    "\n",
    "print(dataDF.dtypes)"
   ]
  },
  {
   "cell_type": "code",
   "execution_count": 144,
   "id": "4758c1e2",
   "metadata": {},
   "outputs": [
    {
     "data": {
      "text/plain": [
       "銷售時間    26\n",
       "社保卡號     0\n",
       "商品编碼     0\n",
       "商品名稱     0\n",
       "銷售數量     0\n",
       "應收金額     0\n",
       "實收金額     0\n",
       "dtype: int64"
      ]
     },
     "execution_count": 144,
     "metadata": {},
     "output_type": "execute_result"
    }
   ],
   "source": [
    "dataDF.isnull().sum()"
   ]
  },
  {
   "cell_type": "code",
   "execution_count": 145,
   "id": "42354e4f",
   "metadata": {},
   "outputs": [
    {
     "name": "stdout",
     "output_type": "stream",
     "text": [
      "<class 'pandas.core.frame.DataFrame'>\n",
      "Int64Index: 6549 entries, 0 to 6573\n",
      "Data columns (total 7 columns):\n",
      " #   Column  Non-Null Count  Dtype         \n",
      "---  ------  --------------  -----         \n",
      " 0   銷售時間    6549 non-null   datetime64[ns]\n",
      " 1   社保卡號    6549 non-null   object        \n",
      " 2   商品编碼    6549 non-null   object        \n",
      " 3   商品名稱    6549 non-null   object        \n",
      " 4   銷售數量    6549 non-null   float64       \n",
      " 5   應收金額    6549 non-null   float64       \n",
      " 6   實收金額    6549 non-null   float64       \n",
      "dtypes: datetime64[ns](1), float64(3), object(3)\n",
      "memory usage: 409.3+ KB\n",
      "None\n"
     ]
    },
    {
     "data": {
      "text/plain": [
       "0"
      ]
     },
     "execution_count": 145,
     "metadata": {},
     "output_type": "execute_result"
    }
   ],
   "source": [
    "dataDF = dataDF.dropna(subset=['銷售時間','社保卡號'],how='any')\n",
    "datasDF = dataDF.reset_index(drop = True)\n",
    "print(dataDF.info())\n",
    "dataDF['社保卡號'].isnull().sum()"
   ]
  },
  {
   "cell_type": "code",
   "execution_count": 146,
   "id": "44d8c0c9",
   "metadata": {},
   "outputs": [
    {
     "data": {
      "text/html": [
       "<div>\n",
       "<style scoped>\n",
       "    .dataframe tbody tr th:only-of-type {\n",
       "        vertical-align: middle;\n",
       "    }\n",
       "\n",
       "    .dataframe tbody tr th {\n",
       "        vertical-align: top;\n",
       "    }\n",
       "\n",
       "    .dataframe thead th {\n",
       "        text-align: right;\n",
       "    }\n",
       "</style>\n",
       "<table border=\"1\" class=\"dataframe\">\n",
       "  <thead>\n",
       "    <tr style=\"text-align: right;\">\n",
       "      <th></th>\n",
       "      <th>銷售時間</th>\n",
       "      <th>社保卡號</th>\n",
       "      <th>商品编碼</th>\n",
       "      <th>商品名稱</th>\n",
       "      <th>銷售數量</th>\n",
       "      <th>應收金額</th>\n",
       "      <th>實收金額</th>\n",
       "    </tr>\n",
       "  </thead>\n",
       "  <tbody>\n",
       "    <tr>\n",
       "      <th>0</th>\n",
       "      <td>2018-01-01</td>\n",
       "      <td>001616528</td>\n",
       "      <td>236701</td>\n",
       "      <td>强力VC银翘片</td>\n",
       "      <td>6.0</td>\n",
       "      <td>82.8</td>\n",
       "      <td>69.0</td>\n",
       "    </tr>\n",
       "    <tr>\n",
       "      <th>1</th>\n",
       "      <td>2018-01-01</td>\n",
       "      <td>0010616728</td>\n",
       "      <td>865099</td>\n",
       "      <td>硝苯地平片(心痛定)</td>\n",
       "      <td>2.0</td>\n",
       "      <td>3.4</td>\n",
       "      <td>3.0</td>\n",
       "    </tr>\n",
       "    <tr>\n",
       "      <th>2</th>\n",
       "      <td>2018-01-01</td>\n",
       "      <td>0010073966328</td>\n",
       "      <td>861409</td>\n",
       "      <td>非洛地平缓释片(波依定)</td>\n",
       "      <td>5.0</td>\n",
       "      <td>162.5</td>\n",
       "      <td>145.0</td>\n",
       "    </tr>\n",
       "    <tr>\n",
       "      <th>3</th>\n",
       "      <td>2018-01-01</td>\n",
       "      <td>0010073966328</td>\n",
       "      <td>866634</td>\n",
       "      <td>硝苯地平控释片(欣然)</td>\n",
       "      <td>6.0</td>\n",
       "      <td>111.0</td>\n",
       "      <td>92.5</td>\n",
       "    </tr>\n",
       "    <tr>\n",
       "      <th>4</th>\n",
       "      <td>2018-01-01</td>\n",
       "      <td>0010014289328</td>\n",
       "      <td>866851</td>\n",
       "      <td>缬沙坦分散片(易达乐)</td>\n",
       "      <td>1.0</td>\n",
       "      <td>26.0</td>\n",
       "      <td>23.0</td>\n",
       "    </tr>\n",
       "    <tr>\n",
       "      <th>5</th>\n",
       "      <td>2018-01-01</td>\n",
       "      <td>0013331728</td>\n",
       "      <td>861405</td>\n",
       "      <td>苯磺酸氨氯地平片(络活喜)</td>\n",
       "      <td>2.0</td>\n",
       "      <td>69.0</td>\n",
       "      <td>62.0</td>\n",
       "    </tr>\n",
       "  </tbody>\n",
       "</table>\n",
       "</div>"
      ],
      "text/plain": [
       "        銷售時間           社保卡號    商品编碼           商品名稱  銷售數量   應收金額   實收金額\n",
       "0 2018-01-01      001616528  236701        强力VC银翘片   6.0   82.8   69.0\n",
       "1 2018-01-01     0010616728  865099     硝苯地平片(心痛定)   2.0    3.4    3.0\n",
       "2 2018-01-01  0010073966328  861409   非洛地平缓释片(波依定)   5.0  162.5  145.0\n",
       "3 2018-01-01  0010073966328  866634    硝苯地平控释片(欣然)   6.0  111.0   92.5\n",
       "4 2018-01-01  0010014289328  866851    缬沙坦分散片(易达乐)   1.0   26.0   23.0\n",
       "5 2018-01-01     0013331728  861405  苯磺酸氨氯地平片(络活喜)   2.0   69.0   62.0"
      ]
     },
     "execution_count": 146,
     "metadata": {},
     "output_type": "execute_result"
    }
   ],
   "source": [
    "dataDF = dataDF.sort_values(by='銷售時間', ascending=True)\n",
    "dataDF = dataDF.reset_index(drop=True)\n",
    "dataDF[:6]"
   ]
  },
  {
   "cell_type": "code",
   "execution_count": 147,
   "id": "bebd958b",
   "metadata": {},
   "outputs": [
    {
     "data": {
      "text/html": [
       "<div>\n",
       "<style scoped>\n",
       "    .dataframe tbody tr th:only-of-type {\n",
       "        vertical-align: middle;\n",
       "    }\n",
       "\n",
       "    .dataframe tbody tr th {\n",
       "        vertical-align: top;\n",
       "    }\n",
       "\n",
       "    .dataframe thead th {\n",
       "        text-align: right;\n",
       "    }\n",
       "</style>\n",
       "<table border=\"1\" class=\"dataframe\">\n",
       "  <thead>\n",
       "    <tr style=\"text-align: right;\">\n",
       "      <th></th>\n",
       "      <th>銷售數量</th>\n",
       "      <th>應收金額</th>\n",
       "      <th>實收金額</th>\n",
       "    </tr>\n",
       "  </thead>\n",
       "  <tbody>\n",
       "    <tr>\n",
       "      <th>count</th>\n",
       "      <td>6549.000000</td>\n",
       "      <td>6549.000000</td>\n",
       "      <td>6549.000000</td>\n",
       "    </tr>\n",
       "    <tr>\n",
       "      <th>mean</th>\n",
       "      <td>2.384486</td>\n",
       "      <td>50.449076</td>\n",
       "      <td>46.284370</td>\n",
       "    </tr>\n",
       "    <tr>\n",
       "      <th>std</th>\n",
       "      <td>2.375227</td>\n",
       "      <td>87.696401</td>\n",
       "      <td>81.058426</td>\n",
       "    </tr>\n",
       "    <tr>\n",
       "      <th>min</th>\n",
       "      <td>-10.000000</td>\n",
       "      <td>-374.000000</td>\n",
       "      <td>-374.000000</td>\n",
       "    </tr>\n",
       "    <tr>\n",
       "      <th>25%</th>\n",
       "      <td>1.000000</td>\n",
       "      <td>14.000000</td>\n",
       "      <td>12.320000</td>\n",
       "    </tr>\n",
       "    <tr>\n",
       "      <th>50%</th>\n",
       "      <td>2.000000</td>\n",
       "      <td>28.000000</td>\n",
       "      <td>26.500000</td>\n",
       "    </tr>\n",
       "    <tr>\n",
       "      <th>75%</th>\n",
       "      <td>2.000000</td>\n",
       "      <td>59.600000</td>\n",
       "      <td>53.000000</td>\n",
       "    </tr>\n",
       "    <tr>\n",
       "      <th>max</th>\n",
       "      <td>50.000000</td>\n",
       "      <td>2950.000000</td>\n",
       "      <td>2650.000000</td>\n",
       "    </tr>\n",
       "  </tbody>\n",
       "</table>\n",
       "</div>"
      ],
      "text/plain": [
       "              銷售數量         應收金額         實收金額\n",
       "count  6549.000000  6549.000000  6549.000000\n",
       "mean      2.384486    50.449076    46.284370\n",
       "std       2.375227    87.696401    81.058426\n",
       "min     -10.000000  -374.000000  -374.000000\n",
       "25%       1.000000    14.000000    12.320000\n",
       "50%       2.000000    28.000000    26.500000\n",
       "75%       2.000000    59.600000    53.000000\n",
       "max      50.000000  2950.000000  2650.000000"
      ]
     },
     "execution_count": 147,
     "metadata": {},
     "output_type": "execute_result"
    }
   ],
   "source": [
    "dataDF.describe()"
   ]
  },
  {
   "cell_type": "code",
   "execution_count": 148,
   "id": "5b33680f",
   "metadata": {},
   "outputs": [
    {
     "data": {
      "text/html": [
       "<div>\n",
       "<style scoped>\n",
       "    .dataframe tbody tr th:only-of-type {\n",
       "        vertical-align: middle;\n",
       "    }\n",
       "\n",
       "    .dataframe tbody tr th {\n",
       "        vertical-align: top;\n",
       "    }\n",
       "\n",
       "    .dataframe thead th {\n",
       "        text-align: right;\n",
       "    }\n",
       "</style>\n",
       "<table border=\"1\" class=\"dataframe\">\n",
       "  <thead>\n",
       "    <tr style=\"text-align: right;\">\n",
       "      <th></th>\n",
       "      <th>銷售數量</th>\n",
       "      <th>應收金額</th>\n",
       "      <th>實收金額</th>\n",
       "    </tr>\n",
       "  </thead>\n",
       "  <tbody>\n",
       "    <tr>\n",
       "      <th>count</th>\n",
       "      <td>6506.000000</td>\n",
       "      <td>6506.000000</td>\n",
       "      <td>6506.000000</td>\n",
       "    </tr>\n",
       "    <tr>\n",
       "      <th>mean</th>\n",
       "      <td>2.405626</td>\n",
       "      <td>50.927897</td>\n",
       "      <td>46.727653</td>\n",
       "    </tr>\n",
       "    <tr>\n",
       "      <th>std</th>\n",
       "      <td>2.364565</td>\n",
       "      <td>87.650282</td>\n",
       "      <td>80.997726</td>\n",
       "    </tr>\n",
       "    <tr>\n",
       "      <th>min</th>\n",
       "      <td>1.000000</td>\n",
       "      <td>1.200000</td>\n",
       "      <td>0.030000</td>\n",
       "    </tr>\n",
       "    <tr>\n",
       "      <th>25%</th>\n",
       "      <td>1.000000</td>\n",
       "      <td>14.000000</td>\n",
       "      <td>12.600000</td>\n",
       "    </tr>\n",
       "    <tr>\n",
       "      <th>50%</th>\n",
       "      <td>2.000000</td>\n",
       "      <td>28.000000</td>\n",
       "      <td>27.000000</td>\n",
       "    </tr>\n",
       "    <tr>\n",
       "      <th>75%</th>\n",
       "      <td>2.000000</td>\n",
       "      <td>59.600000</td>\n",
       "      <td>53.000000</td>\n",
       "    </tr>\n",
       "    <tr>\n",
       "      <th>max</th>\n",
       "      <td>50.000000</td>\n",
       "      <td>2950.000000</td>\n",
       "      <td>2650.000000</td>\n",
       "    </tr>\n",
       "  </tbody>\n",
       "</table>\n",
       "</div>"
      ],
      "text/plain": [
       "              銷售數量         應收金額         實收金額\n",
       "count  6506.000000  6506.000000  6506.000000\n",
       "mean      2.405626    50.927897    46.727653\n",
       "std       2.364565    87.650282    80.997726\n",
       "min       1.000000     1.200000     0.030000\n",
       "25%       1.000000    14.000000    12.600000\n",
       "50%       2.000000    28.000000    27.000000\n",
       "75%       2.000000    59.600000    53.000000\n",
       "max      50.000000  2950.000000  2650.000000"
      ]
     },
     "execution_count": 148,
     "metadata": {},
     "output_type": "execute_result"
    }
   ],
   "source": [
    "pop = dataDF.loc[:,'銷售數量'] > 0\n",
    "dataDF = dataDF.loc[pop,:]\n",
    "dataDF.describe()"
   ]
  },
  {
   "cell_type": "code",
   "execution_count": 149,
   "id": "1234511a",
   "metadata": {},
   "outputs": [
    {
     "name": "stdout",
     "output_type": "stream",
     "text": [
      "總消費次數= 5342\n",
      "月份數= 6\n",
      "業務指標：月均消費次數= 890\n"
     ]
    }
   ],
   "source": [
    "kpil_Df = dataDF.drop_duplicates(subset=['銷售時間','社保卡號'])\n",
    "totalI = kpil_Df.shape[0]\n",
    "print('總消費次數=',totalI)\n",
    "\n",
    "\n",
    "kpil_Df = kpil_Df.sort_values(by='銷售時間', ascending=True)\n",
    "\n",
    "kpil_Df = kpil_Df.reset_index(drop=True)\n",
    "\n",
    "startTime = kpil_Df.loc[0,'銷售時間']\n",
    "endTime = kpil_Df.loc[totalI-1,'銷售時間']\n",
    "\n",
    "daysI = (endTime-startTime).days\n",
    "mounthI = daysI//30\n",
    "print('月份數=',mounthI)\n",
    "\n",
    "\n",
    "kpil_I = totalI//mounthI\n",
    "print('業務指標：月均消費次數=', kpil_I)"
   ]
  },
  {
   "cell_type": "code",
   "execution_count": 150,
   "id": "a836dfb1",
   "metadata": {},
   "outputs": [
    {
     "name": "stdout",
     "output_type": "stream",
     "text": [
      "業務指標2：月均消費金額= 50668.0\n"
     ]
    }
   ],
   "source": [
    "totalMoneyF = dataDF.loc[:,'實收金額'].sum()\n",
    "mounthMoney = totalMoneyF // mounthI\n",
    "print('業務指標2：月均消費金額=', mounthMoney)"
   ]
  },
  {
   "cell_type": "code",
   "execution_count": 151,
   "id": "0f04ec86",
   "metadata": {},
   "outputs": [
    {
     "name": "stdout",
     "output_type": "stream",
     "text": [
      "業務指標3：客單價= 56.909417821040805\n"
     ]
    }
   ],
   "source": [
    "pct = totalMoneyF / totalI\n",
    "print('業務指標3：客單價=', pct)"
   ]
  },
  {
   "cell_type": "code",
   "execution_count": 152,
   "id": "57864530",
   "metadata": {},
   "outputs": [
    {
     "name": "stdout",
     "output_type": "stream",
     "text": [
      "                 銷售時間           社保卡號    商品编碼          商品名稱  銷售數量   應收金額   實收金額\n",
      "銷售時間                                                                          \n",
      "2018-01-01 2018-01-01      001616528  236701       强力VC银翘片   6.0   82.8   69.0\n",
      "2018-01-01 2018-01-01     0010616728  865099    硝苯地平片(心痛定)   2.0    3.4    3.0\n",
      "2018-01-01 2018-01-01  0010073966328  861409  非洛地平缓释片(波依定)   5.0  162.5  145.0\n",
      "2018-01-01 2018-01-01  0010073966328  866634   硝苯地平控释片(欣然)   6.0  111.0   92.5\n",
      "2018-01-01 2018-01-01  0010014289328  866851   缬沙坦分散片(易达乐)   1.0   26.0   23.0\n",
      "<pandas.core.groupby.generic.DataFrameGroupBy object at 0x000001BD0CF78430>\n",
      "             銷售數量    應收金額     實收金額\n",
      "銷售時間                              \n",
      "2018-01-01   62.0  1375.4  1239.10\n",
      "2018-01-02   29.0   610.2   561.34\n",
      "2018-01-03   43.0  1056.2   962.50\n",
      "2018-01-04   39.0   818.7   766.00\n",
      "2018-01-05  230.0  4658.5  4181.02\n",
      "...           ...     ...      ...\n",
      "2018-07-15  282.0  5570.5  5054.46\n",
      "2018-07-16  101.0  3054.6  2828.10\n",
      "2018-07-17   74.0  1524.2  1420.38\n",
      "2018-07-18   52.0  1005.1   913.00\n",
      "2018-07-19   58.0  1222.3  1120.80\n",
      "\n",
      "[200 rows x 3 columns]\n"
     ]
    },
    {
     "data": {
      "image/png": "[encoded data removed]",
      "text/plain": [
       "<Figure size 432x288 with 1 Axes>"
      ]
     },
     "metadata": {
      "needs_background": "light"
     },
     "output_type": "display_data"
    }
   ],
   "source": [
    "import matplotlib.pyplot as plt\n",
    "import matplotlib\n",
    "from pylab import mpl\n",
    "\n",
    "mpl.rcParams['font.sans-serif'] = ['SimHei']\n",
    "groupDF = dataDF\n",
    "\n",
    "\n",
    "groupDF.index = groupDF['銷售時間']\n",
    "print(groupDF.head())\n",
    "gb = groupDF.groupby(groupDF.index)\n",
    "print(gb)\n",
    "dayDF = gb.sum()\n",
    "print(dayDF)\n",
    "\n",
    "plt.plot(dayDF['實收金額'])\n",
    "plt.title('按天消費金額')\n",
    "plt.xlabel('時間')\n",
    "plt.ylabel('實收金額')\n",
    "plt.show()"
   ]
  },
  {
   "cell_type": "code",
   "execution_count": 153,
   "id": "4f6fbe44",
   "metadata": {},
   "outputs": [
    {
     "name": "stdout",
     "output_type": "stream",
     "text": [
      "<pandas.core.groupby.generic.DataFrameGroupBy object at 0x000001BD0E2CA280>\n",
      "        銷售數量     應收金額      實收金額\n",
      "銷售時間                           \n",
      "1     2527.0  53561.6  49461.19\n",
      "2     1858.0  42028.8  38790.38\n",
      "3     2225.0  45318.0  41597.51\n",
      "4     3005.0  54296.3  48787.84\n",
      "5     2225.0  51263.4  46925.27\n",
      "6     2328.0  52300.8  48327.70\n",
      "7     1483.0  32568.0  30120.22\n"
     ]
    },
    {
     "data": {
      "image/png": "[encoded data removed]",
      "text/plain": [
       "<Figure size 432x288 with 1 Axes>"
      ]
     },
     "metadata": {
      "needs_background": "light"
     },
     "output_type": "display_data"
    }
   ],
   "source": [
    "gb = groupDF.groupby(groupDF.index.month)\n",
    "print(gb)\n",
    "monthDF = gb.sum()\n",
    "print(monthDF)\n",
    "\n",
    "plt.plot(monthDF['實收金額'])\n",
    "plt.title('按月消費金額')\n",
    "plt.xlabel('時間')\n",
    "plt.ylabel('實收金額')\n",
    "plt.show()"
   ]
  },
  {
   "cell_type": "code",
   "execution_count": 154,
   "id": "b18dbe71",
   "metadata": {},
   "outputs": [
    {
     "data": {
      "text/html": [
       "<div>\n",
       "<style scoped>\n",
       "    .dataframe tbody tr th:only-of-type {\n",
       "        vertical-align: middle;\n",
       "    }\n",
       "\n",
       "    .dataframe tbody tr th {\n",
       "        vertical-align: top;\n",
       "    }\n",
       "\n",
       "    .dataframe thead th {\n",
       "        text-align: right;\n",
       "    }\n",
       "</style>\n",
       "<table border=\"1\" class=\"dataframe\">\n",
       "  <thead>\n",
       "    <tr style=\"text-align: right;\">\n",
       "      <th></th>\n",
       "      <th>銷售數量</th>\n",
       "    </tr>\n",
       "    <tr>\n",
       "      <th>商品名稱</th>\n",
       "      <th></th>\n",
       "    </tr>\n",
       "  </thead>\n",
       "  <tbody>\n",
       "    <tr>\n",
       "      <th>苯磺酸氨氯地平片(安内真)</th>\n",
       "      <td>1781.0</td>\n",
       "    </tr>\n",
       "    <tr>\n",
       "      <th>开博通</th>\n",
       "      <td>1440.0</td>\n",
       "    </tr>\n",
       "    <tr>\n",
       "      <th>酒石酸美托洛尔片(倍他乐克)</th>\n",
       "      <td>1140.0</td>\n",
       "    </tr>\n",
       "    <tr>\n",
       "      <th>硝苯地平片(心痛定)</th>\n",
       "      <td>825.0</td>\n",
       "    </tr>\n",
       "    <tr>\n",
       "      <th>苯磺酸氨氯地平片(络活喜)</th>\n",
       "      <td>796.0</td>\n",
       "    </tr>\n",
       "  </tbody>\n",
       "</table>\n",
       "</div>"
      ],
      "text/plain": [
       "                  銷售數量\n",
       "商品名稱                  \n",
       "苯磺酸氨氯地平片(安内真)   1781.0\n",
       "开博通             1440.0\n",
       "酒石酸美托洛尔片(倍他乐克)  1140.0\n",
       "硝苯地平片(心痛定)       825.0\n",
       "苯磺酸氨氯地平片(络活喜)    796.0"
      ]
     },
     "execution_count": 154,
     "metadata": {},
     "output_type": "execute_result"
    }
   ],
   "source": [
    "medicine = groupDF[['商品名稱','銷售數量']]\n",
    "bk = medicine.groupby('商品名稱')[['銷售數量']]\n",
    "re_medicine = bk.sum()\n",
    "\n",
    "\n",
    "re_medicine = re_medicine.sort_values(by='銷售數量', ascending=False)\n",
    "re_medicine.head()"
   ]
  },
  {
   "cell_type": "code",
   "execution_count": 155,
   "id": "0b9c8ea7",
   "metadata": {},
   "outputs": [
    {
     "data": {
      "image/png": "[encoded data removed]",
      "text/plain": [
       "<Figure size 432x288 with 1 Axes>"
      ]
     },
     "metadata": {
      "needs_background": "light"
     },
     "output_type": "display_data"
    }
   ],
   "source": [
    "top_medicine = re_medicine.iloc[:10,:]\n",
    "top_medicine\n",
    "\n",
    "\n",
    "top_medicine.plot(kind = 'bar')\n",
    "plt.title('銷售前十的藥品')\n",
    "plt.xlabel('藥品')\n",
    "plt.ylabel('數量')\n",
    "plt.show()"
   ]
  },
  {
   "cell_type": "code",
   "execution_count": 156,
   "id": "ab78959f",
   "metadata": {},
   "outputs": [
    {
     "data": {
      "image/png": "[encoded data removed]",
      "text/plain": [
       "<Figure size 432x288 with 1 Axes>"
      ]
     },
     "metadata": {
      "needs_background": "light"
     },
     "output_type": "display_data"
    }
   ],
   "source": [
    "plt.scatter(dataDF['銷售時間'],dataDF['實收金額'])\n",
    "plt.title('每天銷售金額')\n",
    "plt.xlabel('時間')\n",
    "plt.ylabel('實收金額')\n",
    "plt.show()"
   ]
  },
  {
   "cell_type": "code",
   "execution_count": null,
   "id": "b6a3c7ba",
   "metadata": {},
   "outputs": [],
   "source": []
  }
 ],
 "metadata": {
  "kernelspec": {
   "display_name": "Python 3 (ipykernel)",
   "language": "python",
   "name": "python3"
  },
  "language_info": {
   "codemirror_mode": {
    "name": "ipython",
    "version": 3
   },
   "file_extension": ".py",
   "mimetype": "text/x-python",
   "name": "python",
   "nbconvert_exporter": "python",
   "pygments_lexer": "ipython3",
   "version": "3.9.12"
  }
 },
 "nbformat": 4,
 "nbformat_minor": 5
}
